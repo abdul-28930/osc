{
 "cells": [
  {
   "cell_type": "code",
   "execution_count": 7,
   "metadata": {},
   "outputs": [],
   "source": [
    "import pandas as pd\n",
    "import numpy as np\n",
    "import matplotlib.pyplot as plt\n",
    "import matplotlib.pyplot as plt\n",
    "from sklearn.linear_model import LinearRegression\n",
    "from sklearn.preprocessing import PolynomialFeatures"
   ]
  },
  {
   "cell_type": "code",
   "execution_count": 14,
   "metadata": {},
   "outputs": [],
   "source": [
    "data = pd.read_csv(\"salary.csv\")\n",
    "data = data.dropna()"
   ]
  },
  {
   "cell_type": "code",
   "execution_count": 15,
   "metadata": {},
   "outputs": [
    {
     "data": {
      "text/plain": [
       "(array([ 90000.,  65000., 150000.,  60000., 200000.,  55000., 120000.,\n",
       "         80000.,  45000., 110000.,  75000., 140000.,  65000., 130000.,\n",
       "         40000., 125000.,  90000., 115000.,  35000., 180000.,  80000.,\n",
       "        190000.,  50000.,  60000., 140000.,  45000., 110000.,  40000.,\n",
       "        140000.,  90000., 250000.,  55000.,  75000.,  65000., 170000.,\n",
       "         45000.,  60000., 115000.,  40000., 160000.,  80000., 190000.,\n",
       "         60000.,  45000., 130000.,  40000.,  75000., 180000., 120000.,\n",
       "         35000., 130000.,  85000.,  60000., 200000.,  50000.,  95000.,\n",
       "         65000., 140000.,  55000., 105000., 170000.,  50000.,  80000.,\n",
       "        180000.,  35000.,  90000., 120000.,  45000.,  90000., 150000.,\n",
       "         65000.,  70000., 190000.,  40000., 120000.,  95000., 160000.,\n",
       "        100000., 180000.,  55000.,  70000.,  80000.,  30000., 250000.,\n",
       "         40000.,  95000.,  45000.,  80000., 135000.,  55000., 120000.,\n",
       "         40000., 105000., 170000.,  75000.,  65000., 160000.,  35000.,\n",
       "         90000., 110000.,  45000.,  95000., 150000.,  50000.,  80000.,\n",
       "        220000.,  50000.,  60000., 100000.,  40000., 110000.,  95000.,\n",
       "        130000.,  90000.,  35000.,  95000.,  65000., 170000.,  45000.,\n",
       "        120000., 100000., 180000.,  50000.,  80000., 140000.,  40000.,\n",
       "         95000., 110000.,  50000., 105000., 160000.,  45000., 100000.,\n",
       "        160000.,  35000.,  55000., 140000.,  50000.,  60000., 120000.,\n",
       "         40000., 110000.,  50000., 135000.,  40000.,  90000., 150000.,\n",
       "         60000.,  80000., 175000.,  45000., 120000., 140000.,  35000.,\n",
       "         95000., 110000.,  50000., 115000., 185000.,  40000.,  90000.,\n",
       "        175000.,  45000.,  80000., 120000.,  35000., 110000., 150000.,\n",
       "         50000., 105000., 180000.,  40000., 140000.,  45000.,  85000.,\n",
       "        140000.,  50000.,  80000., 170000.,  40000., 105000., 145000.,\n",
       "         40000.,  85000., 130000.,  95000., 100000., 180000.,  35000.,\n",
       "         95000., 170000.,  45000.,  95000., 120000.,  40000.,  90000.,\n",
       "        155000.,  55000., 110000., 180000.,  45000., 130000.,  45000.,\n",
       "         90000., 160000.,  50000., 120000., 170000.,  40000., 110000.,\n",
       "        150000.,  40000.,  85000., 130000., 100000.,  95000., 180000.,\n",
       "         35000., 100000., 170000.,  45000., 100000., 140000.,  40000.,\n",
       "        105000., 160000.,  70000., 120000., 190000.,  45000., 120000.,\n",
       "         50000.,  85000., 140000.,  45000., 100000., 140000.,  70000.,\n",
       "        120000., 160000.,  40000., 120000., 150000.,  70000.,  95000.,\n",
       "        180000.,  50000.,  95000., 170000.,  40000., 110000., 150000.,\n",
       "         40000.,  85000., 130000., 100000.,  95000., 180000.,    350.,\n",
       "        120000., 160000.,  50000., 110000.,  40000.,  95000., 140000.,\n",
       "         60000., 110000., 150000.,  60000.,  90000., 180000.,  40000.,\n",
       "        120000., 160000.,  70000.,  95000., 180000.,  50000.,  95000.,\n",
       "        170000.,  35000., 100000., 150000.,  60000.,  85000., 130000.,\n",
       "         65000., 110000., 180000.,  40000.,  90000., 140000.,  60000.,\n",
       "        130000., 160000.,  40000., 100000., 180000.,  55000., 120000.,\n",
       "        150000.,  70000.,  95000., 180000.,  50000., 120000., 170000.,\n",
       "         35000., 100000., 150000.,  60000.,  85000., 130000.,  80000.,\n",
       "         95000.,  40000., 120000., 160000.,  65000., 130000., 180000.,\n",
       "         40000., 100000., 150000.,  55000., 110000., 180000.,  50000.,\n",
       "        130000., 160000.,  60000.,  95000., 170000.,  40000.,  90000.,\n",
       "        150000.,  70000.,  90000., 170000.,  50000., 150000., 160000.,\n",
       "         60000.,  85000., 180000.,  35000., 110000., 160000.,  55000.,\n",
       "        110000., 180000.,  50000., 130000., 160000.,  60000.,  95000.,\n",
       "        170000.,  40000.,  90000., 150000.,  70000.,  90000., 170000.,\n",
       "         50000., 150000., 160000.,  60000.,  85000., 170000.,  40000.,\n",
       "         90000., 150000.]),\n",
       " array([ 5. ,  3. , 15. ,  7. , 20. ,  2. , 12. ,  4. ,  1. , 10. ,  3. ,\n",
       "        18. ,  6. , 14. ,  2. , 16. ,  7. , 12. ,  0. , 22. ,  5. , 19. ,\n",
       "         2. ,  9. , 13. ,  3. , 11. ,  1. , 15. ,  6. , 25. ,  4. ,  3. ,\n",
       "        10. , 20. ,  2. ,  7. , 14. ,  1. , 21. ,  5. , 18. ,  3. ,  8. ,\n",
       "        13. ,  2. ,  5. , 16. , 11. ,  0. , 22. ,  7. , 12. , 19. ,  3. ,\n",
       "         9. ,  2. , 17. ,  4. ,  7. , 23. ,  3. , 12. , 21. ,  1. , 10. ,\n",
       "        19. ,  5. ,  8. , 18. ,  6. , 11. , 16. ,  2. , 14. , 10. , 22. ,\n",
       "         6. , 20. ,  3. ,  8. , 13. ,  0. , 24. ,  2. , 10. ,  2. , 15. ,\n",
       "        21. ,  6. , 11. ,  3. , 18. , 25. ,  7. , 12. , 22. ,  1. , 10. ,\n",
       "        20. ,  5. ,  8. , 19. ,  5. , 13. , 16. ,  3. ,  7. , 14. ,  2. ,\n",
       "        15. ,  9. , 22. ,  6. ,  0.5,  6. , 15. , 20. ,  3. , 10. , 17. ,\n",
       "        25. ,  5. , 11. , 16. ,  2. ,  9. , 18. ,  4. ,  8. , 21. ,  3. ,\n",
       "        12. , 22. ,  1. , 10. , 19. ,  4. ,  7. , 14. ,  2. , 13. ,  5. ,\n",
       "        20. ,  1.5,  8. , 16. ,  4. , 10. , 19. ,  3. , 11. , 18. ,  2. ,\n",
       "         9. , 14. ,  5. ,  7. , 23. ,  2. , 12. , 21. ,  3. ,  7. , 13. ,\n",
       "         1.5, 14. , 18. ,  4. ,  9. , 20. ,  2. , 16. ,  1.5,  7. , 18. ,\n",
       "         4. , 10. , 20. ,  2. ,  9. , 15. ,  2. ,  8. , 14. ,  6. ,  9. ,\n",
       "        22. ,  1.5, 12. , 19. ,  3. ,  7. , 13. ,  2. , 11. , 17. ,  5. ,\n",
       "         9. , 21. ,  3. , 16. ,  1.5,  7. , 17. ,  4. , 10. , 20. ,  2. ,\n",
       "         9. , 15. ,  2. ,  8. , 14. ,  6. ,  9. , 22. ,  1.5, 12. , 19. ,\n",
       "         3. ,  7. , 13. ,  2. , 11. , 18. ,  5. ,  9. , 21. ,  3. , 15. ,\n",
       "         1.5,  8. , 13. ,  3. ,  9. , 16. ,  5. , 10. , 18. ,  1.5, 10. ,\n",
       "        19. ,  6. ,  8. , 21. ,  3. , 11. , 20. ,  2. ,  9. , 15. ,  2. ,\n",
       "         8. , 14. ,  6. ,  9. , 22. ,  1.5, 10. , 18. ,  3. , 12. ,  1.5,\n",
       "         8. , 15. ,  4. ,  9. , 16. ,  4. ,  8. , 20. ,  2. ,  9. , 17. ,\n",
       "         5. ,  8. , 21. ,  3. , 11. , 19. ,  1.5,  9. , 15. ,  4. ,  8. ,\n",
       "        13. ,  4. , 10. , 21. ,  2. ,  7. , 14. ,  4. , 12. , 16. ,  2. ,\n",
       "         9. , 20. ,  3. ,  9. , 16. ,  5. ,  8. , 21. ,  3. , 12. , 19. ,\n",
       "         1.5,  9. , 15. ,  4. ,  8. , 13. ,  6. ,  8. ,  2. , 10. , 16. ,\n",
       "         4. , 12. , 20. ,  2. ,  9. , 15. ,  3. , 10. , 21. ,  3. , 12. ,\n",
       "        16. ,  4. ,  8. , 19. ,  2. ,  7. , 15. ,  5. ,  8. , 18. ,  3. ,\n",
       "        14. , 16. ,  4. ,  8. , 19. ,  1. ,  8. , 16. ,  3. , 10. , 21. ,\n",
       "         3. , 12. , 16. ,  4. ,  8. , 19. ,  2. ,  7. , 15. ,  5. ,  8. ,\n",
       "        18. ,  3. , 14. , 16. ,  4. ,  8. , 19. ,  2. ,  7. , 15. ]))"
      ]
     },
     "execution_count": 15,
     "metadata": {},
     "output_type": "execute_result"
    }
   ],
   "source": [
    "x = data.iloc[:,-1].values\n",
    "y = data.iloc[:,0].values\n",
    "x,y"
   ]
  },
  {
   "cell_type": "code",
   "execution_count": 16,
   "metadata": {},
   "outputs": [],
   "source": [
    "transformer = PolynomialFeatures(degree=4, include_bias=False)\n",
    "transformer.fit(x.reshape(-1, 1))\n",
    "x = transformer.transform(x.reshape(-1, 1))"
   ]
  },
  {
   "cell_type": "code",
   "execution_count": 17,
   "metadata": {},
   "outputs": [],
   "source": [
    "from sklearn.model_selection import train_test_split\n",
    "x_train, x_test, y_train, y_test = train_test_split(x, y, test_size=0.3, random_state=42)"
   ]
  },
  {
   "cell_type": "code",
   "execution_count": 18,
   "metadata": {},
   "outputs": [],
   "source": [
    "model = LinearRegression().fit(x, y)"
   ]
  },
  {
   "cell_type": "code",
   "execution_count": 19,
   "metadata": {
    "collapsed": true
   },
   "outputs": [
    {
     "data": {
      "text/plain": [
       "array([17.37346378, 19.99966144,  9.26274509,  3.96487392, 16.7753172 ,\n",
       "        1.93410611, 11.4034945 ,  7.16028847,  7.85203253,  2.87381611,\n",
       "        3.40235617,  3.96487392,  4.55764081, 20.44272899,  7.85203253,\n",
       "        3.40235617,  5.81953062, 12.81581393,  5.81953062, 15.51858768,\n",
       "       10.69030239,  9.26274509,  7.16028847, 12.81581393,  2.38308686,\n",
       "        7.85203253,  6.48171926, 12.81581393,  3.40235617,  7.16028847,\n",
       "        2.38308686, 15.51858768,  2.38308686,  2.38308686, 17.94924703,\n",
       "       17.94924703,  4.55764081,  8.55385027, 10.69030239, 16.7753172 ,\n",
       "        1.93410611, 17.94924703, 14.86359294,  1.93410611,  1.93410611,\n",
       "        2.38308686,  8.55385027,  4.55764081, 12.11282294,  2.38308686,\n",
       "        3.40235617,  2.87381611,  1.93410611,  4.55764081, 14.19341129,\n",
       "        2.87381611,  2.38308686, 16.7753172 , 16.7753172 ,  2.87381611,\n",
       "        7.85203253, 16.15644456,  8.55385027,  7.16028847, 19.02769737,\n",
       "        4.55764081, 11.4034945 ,  2.38308686,  3.40235617, 10.69030239,\n",
       "        2.38308686, 15.51858768, 19.99966144,  9.26274509, 19.99966144,\n",
       "       14.19341129,  2.38308686,  9.26274509,  7.85203253, 19.02769737,\n",
       "       17.94924703,  2.38308686,  4.55764081, 16.7753172 , 12.81581393,\n",
       "       10.69030239, 15.51858768,  9.26274509, 19.99966144,  3.96487392,\n",
       "       16.7753172 , 16.7753172 ,  8.55385027,  9.26274509, 11.4034945 ,\n",
       "        2.38308686, 11.4034945 ,  9.97582495,  4.55764081, 16.7753172 ,\n",
       "       19.02769737, 11.4034945 , 12.81581393,  3.96487392,  8.55385027,\n",
       "       23.24856388,  4.55764081,  4.55764081, 16.7753172 ,  2.38308686,\n",
       "       17.94924703, 14.19341129,  9.26274509, 14.19341129, 16.7753172 ,\n",
       "        8.55385027,  5.81953062,  9.26274509,  9.97582495,  5.17703285,\n",
       "        2.38308686,  5.17703285,  2.87381611, 15.51858768, 19.99966144,\n",
       "        3.40235617, 19.99966144,  9.26274509,  2.87381611, 20.85580552,\n",
       "        9.97582495,  2.87381611, 19.02769737,  7.85203253,  2.38308686,\n",
       "       19.99966144,  5.17703285,  9.97582495, 19.02769737, 17.94924703,\n",
       "        7.16028847, 20.85580552,  3.96487392,  5.17703285, 12.81581393,\n",
       "       14.19341129, 19.02769737, 21.58846891,  9.26274509,  9.26274509,\n",
       "        2.87381611,  5.81953062, 12.81581393, 14.19341129,  2.38308686,\n",
       "        8.55385027,  9.26274509,  3.40235617, 19.99966144,  6.48171926,\n",
       "       11.4034945 ,  2.87381611,  8.55385027,  2.38308686, 19.99966144,\n",
       "       12.81581393, 17.94924703,  2.87381611, 16.7753172 ,  4.55764081,\n",
       "        7.16028847,  3.96487392,  3.40235617,  2.87381611,  1.93410611,\n",
       "        2.38308686,  3.40235617,  7.16028847,  3.40235617, 12.81581393,\n",
       "       19.99966144,  9.26274509, 14.19341129, 15.51858768, 19.02769737,\n",
       "        7.85203253, 17.94924703,  8.55385027, 16.7753172 , 19.02769737,\n",
       "       19.02769737,  4.55764081, 14.19341129, 19.52761276,  2.87381611,\n",
       "        1.93410611, 19.02769737,  9.97582495, 12.81581393, 22.66107605,\n",
       "       21.58846891,  5.17703285,  1.93410611,  5.81953062,  3.40235617,\n",
       "       19.02769737,  2.38308686,  2.38308686,  4.55764081,  9.26274509,\n",
       "       12.81581393, 14.19341129,  9.26274509, 14.86359294, 12.81581393,\n",
       "       11.4034945 ,  3.40235617, 17.94924703,  1.93410611, 12.81581393,\n",
       "       19.02769737,  5.17703285,  5.81953062,  3.40235617, 14.19341129,\n",
       "        7.85203253,  9.26274509,  2.38308686, 19.99966144, 10.69030239,\n",
       "        3.96487392, 12.81581393,  7.85203253,  9.97582495,  2.38308686,\n",
       "       20.85580552, 14.19341129,  8.55385027,  9.26274509,  2.87381611,\n",
       "        4.55764081,  4.55764081, 19.99966144,  1.93410611, 19.52761276,\n",
       "       17.94924703, 12.81581393,  8.55385027, 11.4034945 ,  7.16028847,\n",
       "       17.94924703,  9.97582495, 19.99966144, 16.7753172 ,  7.16028847,\n",
       "        1.93410611,  5.81953062,  3.40235617,  8.55385027, 17.94924703,\n",
       "       16.7753172 ])"
      ]
     },
     "execution_count": 19,
     "metadata": {},
     "output_type": "execute_result"
    }
   ],
   "source": [
    "y_pred = model.predict(x_train)\n",
    "y_pred"
   ]
  },
  {
   "cell_type": "code",
   "execution_count": 20,
   "metadata": {},
   "outputs": [
    {
     "data": {
      "text/plain": [
       "0.8713970290075872"
      ]
     },
     "execution_count": 20,
     "metadata": {},
     "output_type": "execute_result"
    }
   ],
   "source": [
    "model.score(x,y)"
   ]
  },
  {
   "cell_type": "code",
   "execution_count": 21,
   "metadata": {
    "collapsed": true
   },
   "outputs": [
    {
     "data": {
      "text/plain": [
       "array([ 8.55385027,  5.17703285, 16.7753172 ,  4.55764081, 21.58846891,\n",
       "        3.96487392, 12.81581393,  7.16028847,  2.87381611, 11.4034945 ,\n",
       "        6.48171926, 15.51858768,  5.17703285, 14.19341129,  2.38308686,\n",
       "       13.51009826,  8.55385027, 12.11282294,  1.93410611, 19.99966144,\n",
       "        7.16028847, 20.85580552,  3.40235617,  4.55764081, 15.51858768,\n",
       "        2.87381611, 11.4034945 ,  2.38308686, 15.51858768,  8.55385027,\n",
       "       23.24856388,  3.96487392,  6.48171926,  5.17703285, 19.02769737,\n",
       "        2.87381611,  4.55764081, 12.11282294,  2.38308686, 17.94924703,\n",
       "        7.16028847, 20.85580552,  4.55764081,  2.87381611, 14.19341129,\n",
       "        2.38308686,  6.48171926, 19.99966144, 12.81581393,  1.93410611,\n",
       "       14.19341129,  7.85203253,  4.55764081, 21.58846891,  3.40235617,\n",
       "        9.26274509,  5.17703285, 15.51858768,  3.96487392, 10.69030239,\n",
       "       19.02769737,  3.40235617,  7.16028847, 19.99966144,  1.93410611,\n",
       "        8.55385027, 12.81581393,  2.87381611,  8.55385027, 16.7753172 ,\n",
       "        5.17703285,  5.81953062, 20.85580552,  2.38308686, 12.81581393,\n",
       "        9.26274509, 17.94924703,  9.97582495, 19.99966144,  3.96487392,\n",
       "        5.81953062,  7.16028847,  1.5309161 , 23.24856388,  2.38308686,\n",
       "        9.26274509,  2.87381611,  7.16028847, 14.86359294,  3.96487392,\n",
       "       12.81581393,  2.38308686, 10.69030239, 19.02769737,  6.48171926,\n",
       "        5.17703285, 17.94924703,  1.93410611,  8.55385027, 11.4034945 ,\n",
       "        2.87381611,  9.26274509, 16.7753172 ,  3.40235617,  7.16028847,\n",
       "       22.66107605,  3.40235617,  4.55764081,  9.97582495,  2.38308686,\n",
       "       11.4034945 ,  9.26274509, 14.19341129,  8.55385027,  1.93410611,\n",
       "        9.26274509,  5.17703285, 19.02769737,  2.87381611, 12.81581393,\n",
       "        9.97582495, 19.99966144,  3.40235617,  7.16028847, 15.51858768,\n",
       "        2.38308686,  9.26274509, 11.4034945 ,  3.40235617, 10.69030239,\n",
       "       17.94924703,  2.87381611,  9.97582495, 17.94924703,  1.93410611,\n",
       "        3.96487392, 15.51858768,  3.40235617,  4.55764081, 12.81581393,\n",
       "        2.38308686, 11.4034945 ,  3.40235617, 14.86359294,  2.38308686,\n",
       "        8.55385027, 16.7753172 ,  4.55764081,  7.16028847, 19.52761276,\n",
       "        2.87381611, 12.81581393, 15.51858768,  1.93410611,  9.26274509,\n",
       "       11.4034945 ,  3.40235617, 12.11282294, 20.44272899,  2.38308686,\n",
       "        8.55385027, 19.52761276,  2.87381611,  7.16028847, 12.81581393,\n",
       "        1.93410611, 11.4034945 , 16.7753172 ,  3.40235617, 10.69030239,\n",
       "       19.99966144,  2.38308686, 15.51858768,  2.87381611,  7.85203253,\n",
       "       15.51858768,  3.40235617,  7.16028847, 19.02769737,  2.38308686,\n",
       "       10.69030239, 16.15644456,  2.38308686,  7.85203253, 14.19341129,\n",
       "        9.26274509,  9.97582495, 19.99966144,  1.93410611,  9.26274509,\n",
       "       19.02769737,  2.87381611,  9.26274509, 12.81581393,  2.38308686,\n",
       "        8.55385027, 17.37346378,  3.96487392, 11.4034945 , 19.99966144,\n",
       "        2.87381611, 14.19341129,  2.87381611,  8.55385027, 17.94924703,\n",
       "        3.40235617, 12.81581393, 19.02769737,  2.38308686, 11.4034945 ,\n",
       "       16.7753172 ,  2.38308686,  7.85203253, 14.19341129,  9.97582495,\n",
       "        9.26274509, 19.99966144,  1.93410611,  9.97582495, 19.02769737,\n",
       "        2.87381611,  9.97582495, 15.51858768,  2.38308686, 10.69030239,\n",
       "       17.94924703,  5.81953062, 12.81581393, 20.85580552,  2.87381611,\n",
       "       12.81581393,  3.40235617,  7.85203253, 15.51858768,  2.87381611,\n",
       "        9.97582495, 15.51858768,  5.81953062, 12.81581393, 17.94924703,\n",
       "        2.38308686, 12.81581393, 16.7753172 ,  5.81953062,  9.26274509,\n",
       "       19.99966144,  3.40235617,  9.26274509, 19.02769737,  2.38308686,\n",
       "       11.4034945 , 16.7753172 ,  2.38308686,  7.85203253, 14.19341129,\n",
       "        9.97582495,  9.26274509, 19.99966144,  0.31311104, 12.81581393,\n",
       "       17.94924703,  3.40235617, 11.4034945 ,  2.38308686,  9.26274509,\n",
       "       15.51858768,  4.55764081, 11.4034945 , 16.7753172 ,  4.55764081,\n",
       "        8.55385027, 19.99966144,  2.38308686, 12.81581393, 17.94924703,\n",
       "        5.81953062,  9.26274509, 19.99966144,  3.40235617,  9.26274509,\n",
       "       19.02769737,  1.93410611,  9.97582495, 16.7753172 ,  4.55764081,\n",
       "        7.85203253, 14.19341129,  5.17703285, 11.4034945 , 19.99966144,\n",
       "        2.38308686,  8.55385027, 15.51858768,  4.55764081, 14.19341129,\n",
       "       17.94924703,  2.38308686,  9.97582495, 19.99966144,  3.96487392,\n",
       "       12.81581393, 16.7753172 ,  5.81953062,  9.26274509, 19.99966144,\n",
       "        3.40235617, 12.81581393, 19.02769737,  1.93410611,  9.97582495,\n",
       "       16.7753172 ,  4.55764081,  7.85203253, 14.19341129,  7.16028847,\n",
       "        9.26274509,  2.38308686, 12.81581393, 17.94924703,  5.17703285,\n",
       "       14.19341129, 19.99966144,  2.38308686,  9.97582495, 16.7753172 ,\n",
       "        3.96487392, 11.4034945 , 19.99966144,  3.40235617, 14.19341129,\n",
       "       17.94924703,  4.55764081,  9.26274509, 19.02769737,  2.38308686,\n",
       "        8.55385027, 16.7753172 ,  5.81953062,  8.55385027, 19.02769737,\n",
       "        3.40235617, 16.7753172 , 17.94924703,  4.55764081,  7.85203253,\n",
       "       19.99966144,  1.93410611, 11.4034945 , 17.94924703,  3.96487392,\n",
       "       11.4034945 , 19.99966144,  3.40235617, 14.19341129, 17.94924703,\n",
       "        4.55764081,  9.26274509, 19.02769737,  2.38308686,  8.55385027,\n",
       "       16.7753172 ,  5.81953062,  8.55385027, 19.02769737,  3.40235617,\n",
       "       16.7753172 , 17.94924703,  4.55764081,  7.85203253, 19.02769737,\n",
       "        2.38308686,  8.55385027, 16.7753172 ])"
      ]
     },
     "execution_count": 21,
     "metadata": {},
     "output_type": "execute_result"
    }
   ],
   "source": [
    "model.predict(x)"
   ]
  },
  {
   "cell_type": "code",
   "execution_count": 41,
   "metadata": {
    "scrolled": true
   },
   "outputs": [
    {
     "data": {
      "image/png": "[encoded data removed]",
      "text/plain": [
       "<Figure size 432x288 with 1 Axes>"
      ]
     },
     "metadata": {
      "needs_background": "light"
     },
     "output_type": "display_data"
    }
   ],
   "source": [
    "plt.scatter(x[:,0], y.reshape(-1,1))\n",
    "plt.scatter(x_test[:,0],y_test)\n",
    "plt.show()"
   ]
  },
  {
   "cell_type": "code",
   "execution_count": 39,
   "metadata": {},
   "outputs": [
    {
     "data": {
      "text/plain": [
       "((373, 4), (373,))"
      ]
     },
     "execution_count": 39,
     "metadata": {},
     "output_type": "execute_result"
    }
   ],
   "source": [
    "np.shape(x),np.shape(y)"
   ]
  },
  {
   "cell_type": "code",
   "execution_count": null,
   "metadata": {},
   "outputs": [],
   "source": []
  }
 ],
 "metadata": {
  "kernelspec": {
   "display_name": "Python 3",
   "language": "python",
   "name": "python3"
  },
  "language_info": {
   "codemirror_mode": {
    "name": "ipython",
    "version": 3
   },
   "file_extension": ".py",
   "mimetype": "text/x-python",
   "name": "python",
   "nbconvert_exporter": "python",
   "pygments_lexer": "ipython3",
   "version": "3.8.3"
  }
 },
 "nbformat": 4,
 "nbformat_minor": 4
}
