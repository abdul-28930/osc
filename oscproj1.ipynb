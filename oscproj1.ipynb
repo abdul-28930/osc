{
 "cells": [
  {
   "cell_type": "code",
   "execution_count": 21,
   "metadata": {},
   "outputs": [],
   "source": [
    "import pandas as pd\n",
    "import numpy as np"
   ]
  },
  {
   "cell_type": "code",
   "execution_count": 2,
   "metadata": {},
   "outputs": [
    {
     "data": {
      "text/html": [
       "<div>\n",
       "<style scoped>\n",
       "    .dataframe tbody tr th:only-of-type {\n",
       "        vertical-align: middle;\n",
       "    }\n",
       "\n",
       "    .dataframe tbody tr th {\n",
       "        vertical-align: top;\n",
       "    }\n",
       "\n",
       "    .dataframe thead th {\n",
       "        text-align: right;\n",
       "    }\n",
       "</style>\n",
       "<table border=\"1\" class=\"dataframe\">\n",
       "  <thead>\n",
       "    <tr style=\"text-align: right;\">\n",
       "      <th></th>\n",
       "      <th>gpa</th>\n",
       "      <th>study_hours</th>\n",
       "    </tr>\n",
       "  </thead>\n",
       "  <tbody>\n",
       "    <tr>\n",
       "      <th>0</th>\n",
       "      <td>4.00</td>\n",
       "      <td>10.0</td>\n",
       "    </tr>\n",
       "    <tr>\n",
       "      <th>1</th>\n",
       "      <td>3.80</td>\n",
       "      <td>25.0</td>\n",
       "    </tr>\n",
       "    <tr>\n",
       "      <th>2</th>\n",
       "      <td>3.93</td>\n",
       "      <td>45.0</td>\n",
       "    </tr>\n",
       "    <tr>\n",
       "      <th>3</th>\n",
       "      <td>3.40</td>\n",
       "      <td>10.0</td>\n",
       "    </tr>\n",
       "    <tr>\n",
       "      <th>4</th>\n",
       "      <td>3.20</td>\n",
       "      <td>4.0</td>\n",
       "    </tr>\n",
       "    <tr>\n",
       "      <th>...</th>\n",
       "      <td>...</td>\n",
       "      <td>...</td>\n",
       "    </tr>\n",
       "    <tr>\n",
       "      <th>188</th>\n",
       "      <td>3.60</td>\n",
       "      <td>24.0</td>\n",
       "    </tr>\n",
       "    <tr>\n",
       "      <th>189</th>\n",
       "      <td>3.70</td>\n",
       "      <td>12.0</td>\n",
       "    </tr>\n",
       "    <tr>\n",
       "      <th>190</th>\n",
       "      <td>3.84</td>\n",
       "      <td>15.0</td>\n",
       "    </tr>\n",
       "    <tr>\n",
       "      <th>191</th>\n",
       "      <td>3.80</td>\n",
       "      <td>10.0</td>\n",
       "    </tr>\n",
       "    <tr>\n",
       "      <th>192</th>\n",
       "      <td>3.10</td>\n",
       "      <td>15.0</td>\n",
       "    </tr>\n",
       "  </tbody>\n",
       "</table>\n",
       "<p>193 rows × 2 columns</p>\n",
       "</div>"
      ],
      "text/plain": [
       "      gpa  study_hours\n",
       "0    4.00         10.0\n",
       "1    3.80         25.0\n",
       "2    3.93         45.0\n",
       "3    3.40         10.0\n",
       "4    3.20          4.0\n",
       "..    ...          ...\n",
       "188  3.60         24.0\n",
       "189  3.70         12.0\n",
       "190  3.84         15.0\n",
       "191  3.80         10.0\n",
       "192  3.10         15.0\n",
       "\n",
       "[193 rows x 2 columns]"
      ]
     },
     "execution_count": 2,
     "metadata": {},
     "output_type": "execute_result"
    }
   ],
   "source": [
    "data = pd.read_csv(\"gpa_study_hours.csv\")\n",
    "data"
   ]
  },
  {
   "cell_type": "code",
   "execution_count": 3,
   "metadata": {},
   "outputs": [],
   "source": [
    "x = data.iloc[:,-1].values\n",
    "y = data.iloc[:, 0].values"
   ]
  },
  {
   "cell_type": "code",
   "execution_count": 4,
   "metadata": {},
   "outputs": [
    {
     "data": {
      "text/plain": [
       "(array([10. , 25. , 45. , 10. ,  4. , 10. , 24. , 40. , 10. , 10. , 30. ,\n",
       "         7. , 15. , 60. , 10. , 10. ,  6. , 20. ,  8. , 30. , 35. , 12. ,\n",
       "         6. , 20. , 10. , 14. , 10. , 10. , 30. , 20. ,  7. , 20. , 16. ,\n",
       "        14. , 21. , 21. , 11. , 10. , 10. , 15. , 10. , 10. , 20. , 10. ,\n",
       "        10. , 12. , 25. , 20. , 25. , 15. , 10. , 40. , 15. , 10. , 10. ,\n",
       "        25. , 25. , 36. , 30. , 14. ,  2. , 10. ,  5. ,  4. , 20. , 12. ,\n",
       "        15. ,  3. , 10. , 15. , 25. , 15. , 10. , 15. ,  7. , 14. ,  7. ,\n",
       "        40. ,  6. , 10. , 10. , 20. , 20. , 69. ,  8. , 10. ,  3. ,  8. ,\n",
       "        15. , 45. , 10. , 18. , 10. , 10. , 35. , 10. ,  8. , 15. , 30. ,\n",
       "        35. , 20. , 12. , 35. ,  8. , 30. , 10. , 14. , 28. ,  7. , 20. ,\n",
       "        15. , 24. , 20. , 20. , 20. , 25. , 15. , 16. , 10. , 35. , 15. ,\n",
       "        20. , 40. ,  4. , 12. , 49. , 20. , 30. , 12. ,  8. , 60. ,  6.5,\n",
       "        20. , 18. , 10. , 40. , 21. , 12.5, 12. , 20. , 10. , 10. , 20. ,\n",
       "        20. , 10. , 30. , 15. , 20. , 15. , 14. ,  5. ,  5. ,  8. ,  8. ,\n",
       "        14. , 15. , 20. , 14. , 14. , 25. , 30. , 20. , 30. , 20. ,  7. ,\n",
       "         8. , 20. , 14. , 20. , 60. , 15. , 20. , 15. ,  8. , 15. , 10. ,\n",
       "         7. , 20. , 10. , 28. , 12. ,  5. , 30. ,  5. ,  6. , 30. , 15. ,\n",
       "         9. , 24. , 12. , 15. , 10. , 15. ]),\n",
       " array([4.   , 3.8  , 3.93 , 3.4  , 3.2  , 3.52 , 3.68 , 3.4  , 3.7  ,\n",
       "        3.75 , 3.3  , 3.425, 3.795, 3.83 , 3.3  , 3.75 , 3.15 , 3.7  ,\n",
       "        3.8  , 3.63 , 3.9  , 3.294, 3.7  , 3.4  , 4.   , 3.4  , 3.7  ,\n",
       "        3.8  , 3.4  , 3.4  , 3.4  , 3.   , 3.6  , 3.567, 3.3  , 3.4  ,\n",
       "        3.6  , 3.67 , 3.82 , 2.9  , 3.9  , 3.4  , 3.6  , 3.1  , 3.4  ,\n",
       "        3.8  , 3.7  , 3.7  , 3.8  , 3.92 , 3.8  , 3.868, 3.35 , 3.85 ,\n",
       "        3.55 , 3.7  , 3.65 , 3.125, 4.   , 3.25 , 3.86 , 3.5  , 3.45 ,\n",
       "        3.6  , 3.866, 3.82 , 3.2  , 3.5  , 3.8  , 3.8  , 3.7  , 3.75 ,\n",
       "        3.3  , 3.875, 3.7  , 3.5  , 3.2  , 3.566, 3.5  , 4.3  , 3.6  ,\n",
       "        3.2  , 3.825, 3.85 , 3.75 , 4.   , 3.4  , 3.9  , 3.825, 3.7  ,\n",
       "        3.8  , 2.91 , 3.559, 3.69 , 3.3  , 3.75 , 3.9  , 3.65 , 3.5  ,\n",
       "        3.6  , 3.675, 3.9  , 3.6  , 3.675, 3.7  , 3.66 , 3.733, 3.7  ,\n",
       "        2.6  , 4.   , 3.2  , 3.16 , 3.5  , 3.65 , 3.9  , 3.785, 3.1  ,\n",
       "        3.15 , 3.61 , 3.3  , 3.7  , 3.7  , 3.75 , 3.4  , 3.6  , 3.5  ,\n",
       "        3.8  , 3.7  , 3.84 , 3.41 , 3.825, 2.95 , 3.925, 3.3  , 3.3  ,\n",
       "        3.6  , 4.   , 3.3  , 3.89 , 3.2  , 3.97 , 3.3  , 3.86 , 3.76 ,\n",
       "        3.5  , 3.6  , 3.55 , 3.97 , 3.925, 3.68 , 3.25 , 3.56 , 2.85 ,\n",
       "        3.6  , 3.45 , 3.5  , 3.15 , 3.35 , 3.5  , 3.79 , 3.022, 3.46 ,\n",
       "        3.55 , 3.97 , 3.925, 3.2  , 3.4  , 3.9  , 3.6  , 3.83 , 3.8  ,\n",
       "        4.   , 3.5  , 3.3  , 4.   , 3.1  , 3.5  , 3.62 , 3.6  , 3.8  ,\n",
       "        3.2  , 3.925, 3.84 , 3.1  , 4.   , 3.35 , 3.925, 3.   , 3.6  ,\n",
       "        3.7  , 3.84 , 3.8  , 3.1  ]))"
      ]
     },
     "execution_count": 4,
     "metadata": {},
     "output_type": "execute_result"
    }
   ],
   "source": [
    "x,y"
   ]
  },
  {
   "cell_type": "code",
   "execution_count": 6,
   "metadata": {},
   "outputs": [],
   "source": [
    "import matplotlib.pyplot as plt\n",
    "from sklearn.linear_model import LinearRegression\n",
    "from sklearn.preprocessing import PolynomialFeatures"
   ]
  },
  {
   "cell_type": "code",
   "execution_count": 7,
   "metadata": {},
   "outputs": [],
   "source": [
    "transformer = PolynomialFeatures(degree=4, include_bias=False)\n",
    "transformer.fit(x.reshape(-1, 1))\n",
    "x = transformer.transform(x.reshape(-1, 1))"
   ]
  },
  {
   "cell_type": "code",
   "execution_count": 8,
   "metadata": {},
   "outputs": [],
   "source": [
    "from sklearn.model_selection import train_test_split\n",
    "x_train, x_test, y_train, y_test = train_test_split(x, y, test_size=0.3, random_state=42)"
   ]
  },
  {
   "cell_type": "code",
   "execution_count": 9,
   "metadata": {},
   "outputs": [
    {
     "data": {
      "text/plain": [
       "array([[1.00000000e+01, 1.00000000e+02, 1.00000000e+03, 1.00000000e+04],\n",
       "       [2.50000000e+01, 6.25000000e+02, 1.56250000e+04, 3.90625000e+05],\n",
       "       [4.50000000e+01, 2.02500000e+03, 9.11250000e+04, 4.10062500e+06],\n",
       "       [1.00000000e+01, 1.00000000e+02, 1.00000000e+03, 1.00000000e+04],\n",
       "       [4.00000000e+00, 1.60000000e+01, 6.40000000e+01, 2.56000000e+02],\n",
       "       [1.00000000e+01, 1.00000000e+02, 1.00000000e+03, 1.00000000e+04],\n",
       "       [2.40000000e+01, 5.76000000e+02, 1.38240000e+04, 3.31776000e+05],\n",
       "       [4.00000000e+01, 1.60000000e+03, 6.40000000e+04, 2.56000000e+06],\n",
       "       [1.00000000e+01, 1.00000000e+02, 1.00000000e+03, 1.00000000e+04],\n",
       "       [1.00000000e+01, 1.00000000e+02, 1.00000000e+03, 1.00000000e+04],\n",
       "       [3.00000000e+01, 9.00000000e+02, 2.70000000e+04, 8.10000000e+05],\n",
       "       [7.00000000e+00, 4.90000000e+01, 3.43000000e+02, 2.40100000e+03],\n",
       "       [1.50000000e+01, 2.25000000e+02, 3.37500000e+03, 5.06250000e+04],\n",
       "       [6.00000000e+01, 3.60000000e+03, 2.16000000e+05, 1.29600000e+07],\n",
       "       [1.00000000e+01, 1.00000000e+02, 1.00000000e+03, 1.00000000e+04],\n",
       "       [1.00000000e+01, 1.00000000e+02, 1.00000000e+03, 1.00000000e+04],\n",
       "       [6.00000000e+00, 3.60000000e+01, 2.16000000e+02, 1.29600000e+03],\n",
       "       [2.00000000e+01, 4.00000000e+02, 8.00000000e+03, 1.60000000e+05],\n",
       "       [8.00000000e+00, 6.40000000e+01, 5.12000000e+02, 4.09600000e+03],\n",
       "       [3.00000000e+01, 9.00000000e+02, 2.70000000e+04, 8.10000000e+05],\n",
       "       [3.50000000e+01, 1.22500000e+03, 4.28750000e+04, 1.50062500e+06],\n",
       "       [1.20000000e+01, 1.44000000e+02, 1.72800000e+03, 2.07360000e+04],\n",
       "       [6.00000000e+00, 3.60000000e+01, 2.16000000e+02, 1.29600000e+03],\n",
       "       [2.00000000e+01, 4.00000000e+02, 8.00000000e+03, 1.60000000e+05],\n",
       "       [1.00000000e+01, 1.00000000e+02, 1.00000000e+03, 1.00000000e+04],\n",
       "       [1.40000000e+01, 1.96000000e+02, 2.74400000e+03, 3.84160000e+04],\n",
       "       [1.00000000e+01, 1.00000000e+02, 1.00000000e+03, 1.00000000e+04],\n",
       "       [1.00000000e+01, 1.00000000e+02, 1.00000000e+03, 1.00000000e+04],\n",
       "       [3.00000000e+01, 9.00000000e+02, 2.70000000e+04, 8.10000000e+05],\n",
       "       [2.00000000e+01, 4.00000000e+02, 8.00000000e+03, 1.60000000e+05],\n",
       "       [7.00000000e+00, 4.90000000e+01, 3.43000000e+02, 2.40100000e+03],\n",
       "       [2.00000000e+01, 4.00000000e+02, 8.00000000e+03, 1.60000000e+05],\n",
       "       [1.60000000e+01, 2.56000000e+02, 4.09600000e+03, 6.55360000e+04],\n",
       "       [1.40000000e+01, 1.96000000e+02, 2.74400000e+03, 3.84160000e+04],\n",
       "       [2.10000000e+01, 4.41000000e+02, 9.26100000e+03, 1.94481000e+05],\n",
       "       [2.10000000e+01, 4.41000000e+02, 9.26100000e+03, 1.94481000e+05],\n",
       "       [1.10000000e+01, 1.21000000e+02, 1.33100000e+03, 1.46410000e+04],\n",
       "       [1.00000000e+01, 1.00000000e+02, 1.00000000e+03, 1.00000000e+04],\n",
       "       [1.00000000e+01, 1.00000000e+02, 1.00000000e+03, 1.00000000e+04],\n",
       "       [1.50000000e+01, 2.25000000e+02, 3.37500000e+03, 5.06250000e+04],\n",
       "       [1.00000000e+01, 1.00000000e+02, 1.00000000e+03, 1.00000000e+04],\n",
       "       [1.00000000e+01, 1.00000000e+02, 1.00000000e+03, 1.00000000e+04],\n",
       "       [2.00000000e+01, 4.00000000e+02, 8.00000000e+03, 1.60000000e+05],\n",
       "       [1.00000000e+01, 1.00000000e+02, 1.00000000e+03, 1.00000000e+04],\n",
       "       [1.00000000e+01, 1.00000000e+02, 1.00000000e+03, 1.00000000e+04],\n",
       "       [1.20000000e+01, 1.44000000e+02, 1.72800000e+03, 2.07360000e+04],\n",
       "       [2.50000000e+01, 6.25000000e+02, 1.56250000e+04, 3.90625000e+05],\n",
       "       [2.00000000e+01, 4.00000000e+02, 8.00000000e+03, 1.60000000e+05],\n",
       "       [2.50000000e+01, 6.25000000e+02, 1.56250000e+04, 3.90625000e+05],\n",
       "       [1.50000000e+01, 2.25000000e+02, 3.37500000e+03, 5.06250000e+04],\n",
       "       [1.00000000e+01, 1.00000000e+02, 1.00000000e+03, 1.00000000e+04],\n",
       "       [4.00000000e+01, 1.60000000e+03, 6.40000000e+04, 2.56000000e+06],\n",
       "       [1.50000000e+01, 2.25000000e+02, 3.37500000e+03, 5.06250000e+04],\n",
       "       [1.00000000e+01, 1.00000000e+02, 1.00000000e+03, 1.00000000e+04],\n",
       "       [1.00000000e+01, 1.00000000e+02, 1.00000000e+03, 1.00000000e+04],\n",
       "       [2.50000000e+01, 6.25000000e+02, 1.56250000e+04, 3.90625000e+05],\n",
       "       [2.50000000e+01, 6.25000000e+02, 1.56250000e+04, 3.90625000e+05],\n",
       "       [3.60000000e+01, 1.29600000e+03, 4.66560000e+04, 1.67961600e+06],\n",
       "       [3.00000000e+01, 9.00000000e+02, 2.70000000e+04, 8.10000000e+05],\n",
       "       [1.40000000e+01, 1.96000000e+02, 2.74400000e+03, 3.84160000e+04],\n",
       "       [2.00000000e+00, 4.00000000e+00, 8.00000000e+00, 1.60000000e+01],\n",
       "       [1.00000000e+01, 1.00000000e+02, 1.00000000e+03, 1.00000000e+04],\n",
       "       [5.00000000e+00, 2.50000000e+01, 1.25000000e+02, 6.25000000e+02],\n",
       "       [4.00000000e+00, 1.60000000e+01, 6.40000000e+01, 2.56000000e+02],\n",
       "       [2.00000000e+01, 4.00000000e+02, 8.00000000e+03, 1.60000000e+05],\n",
       "       [1.20000000e+01, 1.44000000e+02, 1.72800000e+03, 2.07360000e+04],\n",
       "       [1.50000000e+01, 2.25000000e+02, 3.37500000e+03, 5.06250000e+04],\n",
       "       [3.00000000e+00, 9.00000000e+00, 2.70000000e+01, 8.10000000e+01],\n",
       "       [1.00000000e+01, 1.00000000e+02, 1.00000000e+03, 1.00000000e+04],\n",
       "       [1.50000000e+01, 2.25000000e+02, 3.37500000e+03, 5.06250000e+04],\n",
       "       [2.50000000e+01, 6.25000000e+02, 1.56250000e+04, 3.90625000e+05],\n",
       "       [1.50000000e+01, 2.25000000e+02, 3.37500000e+03, 5.06250000e+04],\n",
       "       [1.00000000e+01, 1.00000000e+02, 1.00000000e+03, 1.00000000e+04],\n",
       "       [1.50000000e+01, 2.25000000e+02, 3.37500000e+03, 5.06250000e+04],\n",
       "       [7.00000000e+00, 4.90000000e+01, 3.43000000e+02, 2.40100000e+03],\n",
       "       [1.40000000e+01, 1.96000000e+02, 2.74400000e+03, 3.84160000e+04],\n",
       "       [7.00000000e+00, 4.90000000e+01, 3.43000000e+02, 2.40100000e+03],\n",
       "       [4.00000000e+01, 1.60000000e+03, 6.40000000e+04, 2.56000000e+06],\n",
       "       [6.00000000e+00, 3.60000000e+01, 2.16000000e+02, 1.29600000e+03],\n",
       "       [1.00000000e+01, 1.00000000e+02, 1.00000000e+03, 1.00000000e+04],\n",
       "       [1.00000000e+01, 1.00000000e+02, 1.00000000e+03, 1.00000000e+04],\n",
       "       [2.00000000e+01, 4.00000000e+02, 8.00000000e+03, 1.60000000e+05],\n",
       "       [2.00000000e+01, 4.00000000e+02, 8.00000000e+03, 1.60000000e+05],\n",
       "       [6.90000000e+01, 4.76100000e+03, 3.28509000e+05, 2.26671210e+07],\n",
       "       [8.00000000e+00, 6.40000000e+01, 5.12000000e+02, 4.09600000e+03],\n",
       "       [1.00000000e+01, 1.00000000e+02, 1.00000000e+03, 1.00000000e+04],\n",
       "       [3.00000000e+00, 9.00000000e+00, 2.70000000e+01, 8.10000000e+01],\n",
       "       [8.00000000e+00, 6.40000000e+01, 5.12000000e+02, 4.09600000e+03],\n",
       "       [1.50000000e+01, 2.25000000e+02, 3.37500000e+03, 5.06250000e+04],\n",
       "       [4.50000000e+01, 2.02500000e+03, 9.11250000e+04, 4.10062500e+06],\n",
       "       [1.00000000e+01, 1.00000000e+02, 1.00000000e+03, 1.00000000e+04],\n",
       "       [1.80000000e+01, 3.24000000e+02, 5.83200000e+03, 1.04976000e+05],\n",
       "       [1.00000000e+01, 1.00000000e+02, 1.00000000e+03, 1.00000000e+04],\n",
       "       [1.00000000e+01, 1.00000000e+02, 1.00000000e+03, 1.00000000e+04],\n",
       "       [3.50000000e+01, 1.22500000e+03, 4.28750000e+04, 1.50062500e+06],\n",
       "       [1.00000000e+01, 1.00000000e+02, 1.00000000e+03, 1.00000000e+04],\n",
       "       [8.00000000e+00, 6.40000000e+01, 5.12000000e+02, 4.09600000e+03],\n",
       "       [1.50000000e+01, 2.25000000e+02, 3.37500000e+03, 5.06250000e+04],\n",
       "       [3.00000000e+01, 9.00000000e+02, 2.70000000e+04, 8.10000000e+05],\n",
       "       [3.50000000e+01, 1.22500000e+03, 4.28750000e+04, 1.50062500e+06],\n",
       "       [2.00000000e+01, 4.00000000e+02, 8.00000000e+03, 1.60000000e+05],\n",
       "       [1.20000000e+01, 1.44000000e+02, 1.72800000e+03, 2.07360000e+04],\n",
       "       [3.50000000e+01, 1.22500000e+03, 4.28750000e+04, 1.50062500e+06],\n",
       "       [8.00000000e+00, 6.40000000e+01, 5.12000000e+02, 4.09600000e+03],\n",
       "       [3.00000000e+01, 9.00000000e+02, 2.70000000e+04, 8.10000000e+05],\n",
       "       [1.00000000e+01, 1.00000000e+02, 1.00000000e+03, 1.00000000e+04],\n",
       "       [1.40000000e+01, 1.96000000e+02, 2.74400000e+03, 3.84160000e+04],\n",
       "       [2.80000000e+01, 7.84000000e+02, 2.19520000e+04, 6.14656000e+05],\n",
       "       [7.00000000e+00, 4.90000000e+01, 3.43000000e+02, 2.40100000e+03],\n",
       "       [2.00000000e+01, 4.00000000e+02, 8.00000000e+03, 1.60000000e+05],\n",
       "       [1.50000000e+01, 2.25000000e+02, 3.37500000e+03, 5.06250000e+04],\n",
       "       [2.40000000e+01, 5.76000000e+02, 1.38240000e+04, 3.31776000e+05],\n",
       "       [2.00000000e+01, 4.00000000e+02, 8.00000000e+03, 1.60000000e+05],\n",
       "       [2.00000000e+01, 4.00000000e+02, 8.00000000e+03, 1.60000000e+05],\n",
       "       [2.00000000e+01, 4.00000000e+02, 8.00000000e+03, 1.60000000e+05],\n",
       "       [2.50000000e+01, 6.25000000e+02, 1.56250000e+04, 3.90625000e+05],\n",
       "       [1.50000000e+01, 2.25000000e+02, 3.37500000e+03, 5.06250000e+04],\n",
       "       [1.60000000e+01, 2.56000000e+02, 4.09600000e+03, 6.55360000e+04],\n",
       "       [1.00000000e+01, 1.00000000e+02, 1.00000000e+03, 1.00000000e+04],\n",
       "       [3.50000000e+01, 1.22500000e+03, 4.28750000e+04, 1.50062500e+06],\n",
       "       [1.50000000e+01, 2.25000000e+02, 3.37500000e+03, 5.06250000e+04],\n",
       "       [2.00000000e+01, 4.00000000e+02, 8.00000000e+03, 1.60000000e+05],\n",
       "       [4.00000000e+01, 1.60000000e+03, 6.40000000e+04, 2.56000000e+06],\n",
       "       [4.00000000e+00, 1.60000000e+01, 6.40000000e+01, 2.56000000e+02],\n",
       "       [1.20000000e+01, 1.44000000e+02, 1.72800000e+03, 2.07360000e+04],\n",
       "       [4.90000000e+01, 2.40100000e+03, 1.17649000e+05, 5.76480100e+06],\n",
       "       [2.00000000e+01, 4.00000000e+02, 8.00000000e+03, 1.60000000e+05],\n",
       "       [3.00000000e+01, 9.00000000e+02, 2.70000000e+04, 8.10000000e+05],\n",
       "       [1.20000000e+01, 1.44000000e+02, 1.72800000e+03, 2.07360000e+04],\n",
       "       [8.00000000e+00, 6.40000000e+01, 5.12000000e+02, 4.09600000e+03],\n",
       "       [6.00000000e+01, 3.60000000e+03, 2.16000000e+05, 1.29600000e+07],\n",
       "       [6.50000000e+00, 4.22500000e+01, 2.74625000e+02, 1.78506250e+03],\n",
       "       [2.00000000e+01, 4.00000000e+02, 8.00000000e+03, 1.60000000e+05],\n",
       "       [1.80000000e+01, 3.24000000e+02, 5.83200000e+03, 1.04976000e+05],\n",
       "       [1.00000000e+01, 1.00000000e+02, 1.00000000e+03, 1.00000000e+04],\n",
       "       [4.00000000e+01, 1.60000000e+03, 6.40000000e+04, 2.56000000e+06],\n",
       "       [2.10000000e+01, 4.41000000e+02, 9.26100000e+03, 1.94481000e+05],\n",
       "       [1.25000000e+01, 1.56250000e+02, 1.95312500e+03, 2.44140625e+04],\n",
       "       [1.20000000e+01, 1.44000000e+02, 1.72800000e+03, 2.07360000e+04],\n",
       "       [2.00000000e+01, 4.00000000e+02, 8.00000000e+03, 1.60000000e+05],\n",
       "       [1.00000000e+01, 1.00000000e+02, 1.00000000e+03, 1.00000000e+04],\n",
       "       [1.00000000e+01, 1.00000000e+02, 1.00000000e+03, 1.00000000e+04],\n",
       "       [2.00000000e+01, 4.00000000e+02, 8.00000000e+03, 1.60000000e+05],\n",
       "       [2.00000000e+01, 4.00000000e+02, 8.00000000e+03, 1.60000000e+05],\n",
       "       [1.00000000e+01, 1.00000000e+02, 1.00000000e+03, 1.00000000e+04],\n",
       "       [3.00000000e+01, 9.00000000e+02, 2.70000000e+04, 8.10000000e+05],\n",
       "       [1.50000000e+01, 2.25000000e+02, 3.37500000e+03, 5.06250000e+04],\n",
       "       [2.00000000e+01, 4.00000000e+02, 8.00000000e+03, 1.60000000e+05],\n",
       "       [1.50000000e+01, 2.25000000e+02, 3.37500000e+03, 5.06250000e+04],\n",
       "       [1.40000000e+01, 1.96000000e+02, 2.74400000e+03, 3.84160000e+04],\n",
       "       [5.00000000e+00, 2.50000000e+01, 1.25000000e+02, 6.25000000e+02],\n",
       "       [5.00000000e+00, 2.50000000e+01, 1.25000000e+02, 6.25000000e+02],\n",
       "       [8.00000000e+00, 6.40000000e+01, 5.12000000e+02, 4.09600000e+03],\n",
       "       [8.00000000e+00, 6.40000000e+01, 5.12000000e+02, 4.09600000e+03],\n",
       "       [1.40000000e+01, 1.96000000e+02, 2.74400000e+03, 3.84160000e+04],\n",
       "       [1.50000000e+01, 2.25000000e+02, 3.37500000e+03, 5.06250000e+04],\n",
       "       [2.00000000e+01, 4.00000000e+02, 8.00000000e+03, 1.60000000e+05],\n",
       "       [1.40000000e+01, 1.96000000e+02, 2.74400000e+03, 3.84160000e+04],\n",
       "       [1.40000000e+01, 1.96000000e+02, 2.74400000e+03, 3.84160000e+04],\n",
       "       [2.50000000e+01, 6.25000000e+02, 1.56250000e+04, 3.90625000e+05],\n",
       "       [3.00000000e+01, 9.00000000e+02, 2.70000000e+04, 8.10000000e+05],\n",
       "       [2.00000000e+01, 4.00000000e+02, 8.00000000e+03, 1.60000000e+05],\n",
       "       [3.00000000e+01, 9.00000000e+02, 2.70000000e+04, 8.10000000e+05],\n",
       "       [2.00000000e+01, 4.00000000e+02, 8.00000000e+03, 1.60000000e+05],\n",
       "       [7.00000000e+00, 4.90000000e+01, 3.43000000e+02, 2.40100000e+03],\n",
       "       [8.00000000e+00, 6.40000000e+01, 5.12000000e+02, 4.09600000e+03],\n",
       "       [2.00000000e+01, 4.00000000e+02, 8.00000000e+03, 1.60000000e+05],\n",
       "       [1.40000000e+01, 1.96000000e+02, 2.74400000e+03, 3.84160000e+04],\n",
       "       [2.00000000e+01, 4.00000000e+02, 8.00000000e+03, 1.60000000e+05],\n",
       "       [6.00000000e+01, 3.60000000e+03, 2.16000000e+05, 1.29600000e+07],\n",
       "       [1.50000000e+01, 2.25000000e+02, 3.37500000e+03, 5.06250000e+04],\n",
       "       [2.00000000e+01, 4.00000000e+02, 8.00000000e+03, 1.60000000e+05],\n",
       "       [1.50000000e+01, 2.25000000e+02, 3.37500000e+03, 5.06250000e+04],\n",
       "       [8.00000000e+00, 6.40000000e+01, 5.12000000e+02, 4.09600000e+03],\n",
       "       [1.50000000e+01, 2.25000000e+02, 3.37500000e+03, 5.06250000e+04],\n",
       "       [1.00000000e+01, 1.00000000e+02, 1.00000000e+03, 1.00000000e+04],\n",
       "       [7.00000000e+00, 4.90000000e+01, 3.43000000e+02, 2.40100000e+03],\n",
       "       [2.00000000e+01, 4.00000000e+02, 8.00000000e+03, 1.60000000e+05],\n",
       "       [1.00000000e+01, 1.00000000e+02, 1.00000000e+03, 1.00000000e+04],\n",
       "       [2.80000000e+01, 7.84000000e+02, 2.19520000e+04, 6.14656000e+05],\n",
       "       [1.20000000e+01, 1.44000000e+02, 1.72800000e+03, 2.07360000e+04],\n",
       "       [5.00000000e+00, 2.50000000e+01, 1.25000000e+02, 6.25000000e+02],\n",
       "       [3.00000000e+01, 9.00000000e+02, 2.70000000e+04, 8.10000000e+05],\n",
       "       [5.00000000e+00, 2.50000000e+01, 1.25000000e+02, 6.25000000e+02],\n",
       "       [6.00000000e+00, 3.60000000e+01, 2.16000000e+02, 1.29600000e+03],\n",
       "       [3.00000000e+01, 9.00000000e+02, 2.70000000e+04, 8.10000000e+05],\n",
       "       [1.50000000e+01, 2.25000000e+02, 3.37500000e+03, 5.06250000e+04],\n",
       "       [9.00000000e+00, 8.10000000e+01, 7.29000000e+02, 6.56100000e+03],\n",
       "       [2.40000000e+01, 5.76000000e+02, 1.38240000e+04, 3.31776000e+05],\n",
       "       [1.20000000e+01, 1.44000000e+02, 1.72800000e+03, 2.07360000e+04],\n",
       "       [1.50000000e+01, 2.25000000e+02, 3.37500000e+03, 5.06250000e+04],\n",
       "       [1.00000000e+01, 1.00000000e+02, 1.00000000e+03, 1.00000000e+04],\n",
       "       [1.50000000e+01, 2.25000000e+02, 3.37500000e+03, 5.06250000e+04]])"
      ]
     },
     "execution_count": 9,
     "metadata": {},
     "output_type": "execute_result"
    }
   ],
   "source": [
    "x"
   ]
  },
  {
   "cell_type": "code",
   "execution_count": 10,
   "metadata": {},
   "outputs": [],
   "source": [
    "model = LinearRegression().fit(x, y)"
   ]
  },
  {
   "cell_type": "code",
   "execution_count": 11,
   "metadata": {},
   "outputs": [
    {
     "data": {
      "text/plain": [
       "array([3.60618743, 3.57589694, 3.60666721, 3.60618743, 3.58489759,\n",
       "       3.60618743, 3.57589694, 3.46934483, 3.57589694, 3.57589694,\n",
       "       3.63980465, 3.59501918, 3.60666721, 3.57589694, 3.59288972,\n",
       "       3.58532404, 3.49408426, 3.51574609, 3.51574609, 3.60804438,\n",
       "       3.58489759, 3.53454912, 3.58592807, 3.55070574, 3.5976056 ,\n",
       "       3.57589694, 3.58489759, 3.46934483, 3.60804438, 3.59288972,\n",
       "       3.60666721, 3.60370763, 3.59288972, 3.58489759, 3.49408426,\n",
       "       3.55070574, 3.57589694, 3.57589694, 3.55070574, 3.60666721,\n",
       "       3.59501918, 3.5976056 , 3.60666721, 3.57589694, 3.60618743,\n",
       "       3.58489759, 3.57589694, 3.53454912, 3.49408426, 3.60315094,\n",
       "       3.60666721, 3.58489759, 3.57589694, 3.60666721, 3.53454912,\n",
       "       3.57589694, 3.55070574, 3.60618743, 3.68035291, 3.44130254,\n",
       "       3.60370763, 3.56442186, 3.58489759, 3.60666721, 3.58592807,\n",
       "       3.60618743, 3.59288972, 3.57589694, 3.60618743, 3.60315094,\n",
       "       3.57589694, 3.60666721, 3.57589694, 3.57589694, 3.57589694,\n",
       "       3.60883064, 3.60618743, 3.57589694, 3.57589694, 3.60618743,\n",
       "       3.57589694, 3.60481288, 3.60370763, 3.60618743, 3.60883064,\n",
       "       3.86966821, 3.60618743, 3.57589694, 3.63980465, 3.57589694,\n",
       "       3.81325492, 3.60315094, 3.55070574, 3.52549153, 3.60666721,\n",
       "       3.57589694, 3.81325492, 3.57589694, 3.60666721, 3.60666721,\n",
       "       3.46934483, 3.57589694, 3.58805677, 3.57589694, 3.59288972,\n",
       "       3.58489759, 3.59501918, 3.60618743, 3.59288972, 3.58803586,\n",
       "       3.58489759, 3.60618743, 3.55070574, 3.57589694, 3.60315094,\n",
       "       3.58489759, 3.59501918, 3.60618743, 3.60315094, 3.81325492,\n",
       "       3.49408426, 3.55070574, 3.58592807, 3.60618743, 3.55070574,\n",
       "       3.53454912, 3.60666721, 3.60618743, 3.58592807, 3.60618743,\n",
       "       3.60315094, 3.57589694, 3.57589694, 3.58805677, 3.58592807])"
      ]
     },
     "execution_count": 11,
     "metadata": {},
     "output_type": "execute_result"
    }
   ],
   "source": [
    "y_pred = model.predict(x_train)\n",
    "y_pred"
   ]
  },
  {
   "cell_type": "code",
   "execution_count": 19,
   "metadata": {},
   "outputs": [
    {
     "data": {
      "text/plain": [
       "0.03163102706879872"
      ]
     },
     "execution_count": 19,
     "metadata": {},
     "output_type": "execute_result"
    }
   ],
   "source": [
    "model.score(x,y)"
   ]
  },
  {
   "cell_type": "code",
   "execution_count": 28,
   "metadata": {},
   "outputs": [
    {
     "data": {
      "text/plain": [
       "((193,), (193,))"
      ]
     },
     "execution_count": 28,
     "metadata": {},
     "output_type": "execute_result"
    }
   ],
   "source": [
    "np.shape(x[:,0]),np.shape(y)\n"
   ]
  },
  {
   "cell_type": "code",
   "execution_count": 34,
   "metadata": {},
   "outputs": [
    {
     "data": {
      "image/png": "[encoded data removed]",
      "text/plain": [
       "<Figure size 432x288 with 1 Axes>"
      ]
     },
     "metadata": {
      "needs_background": "light"
     },
     "output_type": "display_data"
    }
   ],
   "source": [
    "plt.scatter(x[:,0], y.reshape(-1,1))\n",
    "plt.scatter(x_test[:,0],y_test)\n",
    "plt.show()"
   ]
  },
  {
   "cell_type": "code",
   "execution_count": 24,
   "metadata": {},
   "outputs": [
    {
     "data": {
      "text/plain": [
       "((193, 4), (193,))"
      ]
     },
     "execution_count": 24,
     "metadata": {},
     "output_type": "execute_result"
    }
   ],
   "source": [
    "np.shape(x),np.shape(y)"
   ]
  },
  {
   "cell_type": "code",
   "execution_count": null,
   "metadata": {},
   "outputs": [],
   "source": []
  }
 ],
 "metadata": {
  "kernelspec": {
   "display_name": "Python 3",
   "language": "python",
   "name": "python3"
  },
  "language_info": {
   "codemirror_mode": {
    "name": "ipython",
    "version": 3
   },
   "file_extension": ".py",
   "mimetype": "text/x-python",
   "name": "python",
   "nbconvert_exporter": "python",
   "pygments_lexer": "ipython3",
   "version": "3.8.3"
  }
 },
 "nbformat": 4,
 "nbformat_minor": 4
}
